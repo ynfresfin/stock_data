{
 "cells": [
  {
   "cell_type": "code",
   "execution_count": 1,
   "id": "9ff430d7-ed55-4096-b86d-0cd65d6a3c78",
   "metadata": {},
   "outputs": [],
   "source": [
    "import numpy as np\n",
    "import pandas as pd\n",
    "import matplotlib.pyplot as plt\n",
    "from statsmodels.tsa.seasonal import seasonal_decompose"
   ]
  },
  {
   "cell_type": "code",
   "execution_count": 2,
   "id": "2333c4bf-a273-4b8a-87a8-c935c7fc1eec",
   "metadata": {},
   "outputs": [],
   "source": [
    "# FUNCTION:\n",
    "def convert_to_float(column):\n",
    "    return [float(i.replace(\"$\",\"\").replace(\",\",\"\")) for i in column]"
   ]
  },
  {
   "cell_type": "code",
   "execution_count": 3,
   "id": "b357df05-e708-45f1-853d-b8c84acff8f0",
   "metadata": {},
   "outputs": [],
   "source": [
    "df = pd.read_csv(\"https://github.com/ynfresfin/stock_data/raw/main/V_HistoricalData_1726077072765.csv\",\n",
    "                 parse_dates=[\"Date\"],\n",
    "                 index_col=['Date'])\n",
    "\n",
    "df[\"Close/Last\"] = convert_to_float(df[\"Close/Last\"])\n",
    "\n",
    "#Simple Moving Average\n",
    "sma_window = 7  # 7-day moving average\n",
    "sma = df[\"Close/Last\"].rolling(window=sma_window).mean()\n",
    "\n",
    "#Exponential Moving Average\n",
    "ema_window = 30  # 30-day moving average\n",
    "ema = df[\"Close/Last\"].ewm(span=ema_window, adjust=False).mean()\n",
    "\n",
    "# START BELOW:\n",
    "\n"
   ]
  }
 ],
 "metadata": {
  "kernelspec": {
   "display_name": "Python 3 (ipykernel)",
   "language": "python",
   "name": "python3"
  },
  "language_info": {
   "codemirror_mode": {
    "name": "ipython",
    "version": 3
   },
   "file_extension": ".py",
   "mimetype": "text/x-python",
   "name": "python",
   "nbconvert_exporter": "python",
   "pygments_lexer": "ipython3",
   "version": "3.12.5"
  }
 },
 "nbformat": 4,
 "nbformat_minor": 5
}
